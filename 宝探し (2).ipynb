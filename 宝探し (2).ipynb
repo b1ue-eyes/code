{
  "nbformat": 4,
  "nbformat_minor": 0,
  "metadata": {
    "colab": {
      "provenance": [],
      "toc_visible": true
    },
    "kernelspec": {
      "name": "python3",
      "display_name": "Python 3"
    },
    "language_info": {
      "name": "python"
    }
  },
  "cells": [
    {
      "cell_type": "markdown",
      "source": [
        "ゲーム環境の準備"
      ],
      "metadata": {
        "id": "PO7qhWgZ3szA"
      }
    },
    {
      "cell_type": "code",
      "source": [
        "for i in range(3):\n",
        "  print(i)"
      ],
      "metadata": {
        "colab": {
          "base_uri": "https://localhost:8080/"
        },
        "id": "O1afUKUuozxD",
        "outputId": "501f0d0e-fc4d-4c7b-f6f8-d705ca02f6e9"
      },
      "execution_count": null,
      "outputs": [
        {
          "output_type": "stream",
          "name": "stdout",
          "text": [
            "0\n",
            "1\n",
            "2\n"
          ]
        }
      ]
    },
    {
      "cell_type": "code",
      "source": [
        "import random\n",
        "import math\n",
        "#マップの大きさ\n",
        "MAP_SIZE=5\n",
        "\n",
        "count = 0"
      ],
      "metadata": {
        "id": "6LKkljW1NJSL"
      },
      "execution_count": null,
      "outputs": []
    },
    {
      "cell_type": "markdown",
      "source": [
        "宝を隠す・初期位置を決定する(スタート地点＝宝の可能性あり)"
      ],
      "metadata": {
        "id": "gUe0HViF3yOQ"
      }
    },
    {
      "cell_type": "code",
      "source": [
        "#ゲームの実行\n",
        "treasure_x = random.randrange(0, MAP_SIZE)  # 宝のx座標\n",
        "treasure_y = random.randrange(0, MAP_SIZE)  # 宝のy座標\n",
        "\n",
        "player_x = random.randrange(0, MAP_SIZE) # プレイヤーのx座標\n",
        "player_y = random.randrange(0, MAP_SIZE) # プレイヤーのy座標"
      ],
      "metadata": {
        "id": "WsIG2HGz3zoX"
      },
      "execution_count": null,
      "outputs": []
    },
    {
      "cell_type": "markdown",
      "source": [
        "位置表示"
      ],
      "metadata": {
        "id": "e9lvF3UU4EpQ"
      }
    },
    {
      "cell_type": "code",
      "source": [
        "#プレイヤーの位置を表示する\n",
        "def show_map(px, py,sx,sy):\n",
        "   for i in range(MAP_SIZE):\n",
        "    for j in range(MAP_SIZE):\n",
        "      if i == py and j == px:\n",
        "        if i == sy and j == sx:\n",
        "          print(\"☆ \",end=' ') # 宝は☆で表示(見つけるまで非表示)\n",
        "        else:\n",
        "          print(\"〇 \",end=' ') # 自分の位置は〇\n",
        "      else:\n",
        "        print(\" * \",end=' ') # 移動可能場所\n",
        "    print(\"\\n\")\n",
        "show_map(player_x,player_y,treasure_x,treasure_y)"
      ],
      "metadata": {
        "id": "N1GV3lGCOuMV",
        "colab": {
          "base_uri": "https://localhost:8080/"
        },
        "outputId": "1ecd6d5f-8388-4139-e273-ba5f457b5600"
      },
      "execution_count": null,
      "outputs": [
        {
          "output_type": "stream",
          "name": "stdout",
          "text": [
            " *  〇   *   *   *  \n",
            "\n",
            " *   *   *   *   *  \n",
            "\n",
            " *   *   *   *   *  \n",
            "\n",
            " *   *   *   *   *  \n",
            "\n",
            " *   *   *   *   *  \n",
            "\n"
          ]
        }
      ]
    },
    {
      "cell_type": "markdown",
      "source": [
        "ゲーム開始"
      ],
      "metadata": {
        "id": "gW1dF2Jv4VC4"
      }
    },
    {
      "cell_type": "code",
      "source": [
        "\n",
        "# 宝とプレイヤーの位置が異なる間、処理を繰り返す\n",
        "while (treasure_x != player_x) or (treasure_y != player_y):\n",
        "\n",
        "    # キー入力に応じて、プレイヤーを移動する\n",
        "    c = input(\"w:上に移動 a:左に移動 s:下に移動 d:右に移動\\n\")\n",
        "    if c == \"w\":\n",
        "        player_y = player_y - 1\n",
        "    elif c == \"s\":\n",
        "        player_y = player_y + 1\n",
        "    elif c == \"a\":\n",
        "        player_x = player_x - 1\n",
        "    elif c == \"d\":\n",
        "        player_x = player_x + 1\n",
        "\n",
        "    #試行回数をカウント\n",
        "    count = count + 1\n",
        "    #移動後の盤面を表示\n",
        "    show_map(player_x,player_y,treasure_x,treasure_y)\n",
        "    #宝とプレイヤーの距離を求める\n",
        "    distance=math.sqrt((player_x-treasure_x )**2;(player_y=treasure_y)**2)\n",
        "    #求めた距離を表示する\n",
        "    print(\"宝までの距離:\",distance)\n",
        "\n",
        "\n",
        "print(f'あなたはお宝を{count}回で発見しました!')"
      ],
      "metadata": {
        "id": "z8gVkHMaTYqz",
        "colab": {
          "base_uri": "https://localhost:8080/",
          "height": 147
        },
        "outputId": "1fa3c32f-07af-4065-eadf-6a4b181a3473"
      },
      "execution_count": null,
      "outputs": [
        {
          "output_type": "error",
          "ename": "SyntaxError",
          "evalue": "invalid syntax (<ipython-input-17-e065008b7da6>, line 20)",
          "traceback": [
            "\u001b[0;36m  File \u001b[0;32m\"<ipython-input-17-e065008b7da6>\"\u001b[0;36m, line \u001b[0;32m20\u001b[0m\n\u001b[0;31m    distance=math.sqrt((player_x-treasure_x )**2;(player_y=treasure_y)**2)\u001b[0m\n\u001b[0m                                                ^\u001b[0m\n\u001b[0;31mSyntaxError\u001b[0m\u001b[0;31m:\u001b[0m invalid syntax\n"
          ]
        }
      ]
    }
  ]
}